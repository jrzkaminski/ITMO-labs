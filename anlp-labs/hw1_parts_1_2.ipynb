{
  "cells": [
    {
      "cell_type": "markdown",
      "metadata": {
        "id": "TEEKQwtYDMUz"
      },
      "source": [
        "**SOFT DEADLINE:** `20.03.2022 23:59 msk` "
      ]
    },
    {
      "cell_type": "markdown",
      "metadata": {
        "id": "g-IAo9sYDMU-"
      },
      "source": [
        "# [5 points] Part 1. Data cleaning"
      ]
    },
    {
      "cell_type": "markdown",
      "metadata": {
        "id": "-SNyjuGjDMU_"
      },
      "source": [
        "The task is to clear the text data of the crawled web-pages from different sites. \n",
        "\n",
        "It is necessary to ensure that the distribution of the 100 most frequent words includes only meaningful words in english language (not particles, conjunctions, prepositions, numbers, tags, symbols)."
      ]
    },
    {
      "cell_type": "markdown",
      "metadata": {
        "id": "TA4VkGl2DMVB"
      },
      "source": [
        "Determine the order of operations below and carry out the appropriate cleaning.\n",
        "\n",
        "1. Remove non-english words\n",
        "1. Remove html-tags (try to do it with regular expression, or play with beautifulsoap library)\n",
        "1. Apply lemmatization / stemming\n",
        "1. Remove stop-words\n",
        "1. Additional processing - At your own initiative, if this helps to obtain a better distribution"
      ]
    },
    {
      "cell_type": "markdown",
      "metadata": {
        "id": "hjLsB9pdDMVC"
      },
      "source": [
        "#### Hints"
      ]
    },
    {
      "cell_type": "markdown",
      "metadata": {
        "id": "mk6ZLncvDMVD"
      },
      "source": [
        "1. To do text processing you may use nltk and re libraries\n",
        "1. and / or any other libraries on your choise"
      ]
    },
    {
      "cell_type": "markdown",
      "metadata": {
        "id": "KCbTa1OiDMVE"
      },
      "source": [
        "#### Data reading"
      ]
    },
    {
      "cell_type": "markdown",
      "metadata": {
        "id": "cXbG649IDMVG"
      },
      "source": [
        "The dataset for this part can be downloaded here: `https://drive.google.com/file/d/1wLwo83J-ikCCZY2RAoYx8NghaSaQ-lBA/view?usp=sharing`"
      ]
    },
    {
      "cell_type": "code",
      "execution_count": 1,
      "metadata": {
        "id": "HN8UxSDkDMVH"
      },
      "outputs": [],
      "source": [
        "import functools\n",
        "import re\n",
        "import string\n",
        "import nltk\n",
        "import functools\n",
        "import itertools\n",
        "import pandas as pd\n",
        "import matplotlib.pyplot as plt\n",
        "\n",
        "from nltk.corpus import stopwords\n",
        "from nltk.stem import WordNetLemmatizer\n",
        "from nltk.tokenize import word_tokenize\n",
        "from collections import Counter\n",
        "from datasketch import MinHash, LeanMinHash\n",
        "from bs4 import BeautifulSoup\n"
      ]
    },
    {
      "cell_type": "code",
      "execution_count": null,
      "metadata": {
        "id": "74gncBZRoW7Y"
      },
      "outputs": [],
      "source": [
        "# colab\n",
        "from google.colab import drive\n",
        "drive.mount('/content/drive/')"
      ]
    },
    {
      "cell_type": "code",
      "execution_count": 3,
      "metadata": {
        "colab": {
          "base_uri": "https://localhost:8080/"
        },
        "id": "nXaJi9IUmO1T",
        "outputId": "5b0984fd-22d2-4865-e5fd-7a40ee8c2442"
      },
      "outputs": [
        {
          "name": "stderr",
          "output_type": "stream",
          "text": [
            "[nltk_data] Downloading package stopwords to\n",
            "[nltk_data]     C:\\Users\\Jerzy\\AppData\\Roaming\\nltk_data...\n",
            "[nltk_data]   Package stopwords is already up-to-date!\n",
            "[nltk_data] Downloading package wordnet to\n",
            "[nltk_data]     C:\\Users\\Jerzy\\AppData\\Roaming\\nltk_data...\n",
            "[nltk_data]   Package wordnet is already up-to-date!\n",
            "[nltk_data] Downloading package words to\n",
            "[nltk_data]     C:\\Users\\Jerzy\\AppData\\Roaming\\nltk_data...\n",
            "[nltk_data]   Package words is already up-to-date!\n",
            "[nltk_data] Downloading package punkt to\n",
            "[nltk_data]     C:\\Users\\Jerzy\\AppData\\Roaming\\nltk_data...\n",
            "[nltk_data]   Package punkt is already up-to-date!\n",
            "[nltk_data] Downloading package omw-1.4 to\n",
            "[nltk_data]     C:\\Users\\Jerzy\\AppData\\Roaming\\nltk_data...\n",
            "[nltk_data]   Package omw-1.4 is already up-to-date!\n",
            "[nltk_data] Downloading package averaged_perceptron_tagger to\n",
            "[nltk_data]     C:\\Users\\Jerzy\\AppData\\Roaming\\nltk_data...\n",
            "[nltk_data]   Package averaged_perceptron_tagger is already up-to-\n",
            "[nltk_data]       date!\n"
          ]
        },
        {
          "data": {
            "text/plain": [
              "True"
            ]
          },
          "execution_count": 3,
          "metadata": {},
          "output_type": "execute_result"
        }
      ],
      "source": [
        "# download nltk packages\n",
        "nltk.download('stopwords')\n",
        "nltk.download('wordnet')\n",
        "nltk.download('words')\n",
        "nltk.download('punkt')"
      ]
    },
    {
      "cell_type": "code",
      "execution_count": 4,
      "metadata": {
        "id": "2vzyE3hDoast"
      },
      "outputs": [
        {
          "name": "stdout",
          "output_type": "stream",
          "text": [
            "                                                text\n",
            "0  <html>\\n<head profile=\"http://www.w3.org/2005/...\n",
            "1  <html>\\n<head profile=\"http://www.w3.org/2005/...\n",
            "2  <html>\\n<head profile=\"http://www.w3.org/2005/...\n",
            "3  <html>\\n<head profile=\"http://www.w3.org/2005/...\n",
            "4  <html>\\n<head profile=\"http://www.w3.org/2005/...\n"
          ]
        }
      ],
      "source": [
        "# non-colab\n",
        "raw_data = pd.read_csv('data/web_sites_data.csv')\n",
        "print(raw_data.head())"
      ]
    },
    {
      "cell_type": "code",
      "execution_count": null,
      "metadata": {
        "id": "NeXp2eDFoTbH"
      },
      "outputs": [],
      "source": [
        "# colab\n",
        "raw_data = pd.read_csv('/content/drive/My Drive/ITMO/1.2/ANLP-2022-materials/Homeworks/web_sites_data.csv')\n",
        "print(raw_data.head())"
      ]
    },
    {
      "cell_type": "markdown",
      "metadata": {
        "id": "fGBTg9g4DMVJ"
      },
      "source": [
        "#### Data processing"
      ]
    },
    {
      "cell_type": "code",
      "execution_count": 5,
      "metadata": {
        "colab": {
          "base_uri": "https://localhost:8080/"
        },
        "id": "nbpM3QUwDMVK",
        "outputId": "57885cc8-0577-49f1-a4ed-a7e2d8c3677f"
      },
      "outputs": [],
      "source": [
        "# define lemmatizer\n",
        "lemmatizer = WordNetLemmatizer()"
      ]
    },
    {
      "cell_type": "code",
      "execution_count": 6,
      "metadata": {
        "colab": {
          "base_uri": "https://localhost:8080/"
        },
        "id": "Hklvhb6RDMVL",
        "outputId": "b890e0fd-abfa-4b0b-9d27-fffe1ad13052"
      },
      "outputs": [
        {
          "data": {
            "text/html": [
              "<div>\n",
              "<style scoped>\n",
              "    .dataframe tbody tr th:only-of-type {\n",
              "        vertical-align: middle;\n",
              "    }\n",
              "\n",
              "    .dataframe tbody tr th {\n",
              "        vertical-align: top;\n",
              "    }\n",
              "\n",
              "    .dataframe thead th {\n",
              "        text-align: right;\n",
              "    }\n",
              "</style>\n",
              "<table border=\"1\" class=\"dataframe\">\n",
              "  <thead>\n",
              "    <tr style=\"text-align: right;\">\n",
              "      <th></th>\n",
              "      <th>text_preprocessed</th>\n",
              "      <th>text_splitted</th>\n",
              "    </tr>\n",
              "  </thead>\n",
              "  <tbody>\n",
              "    <tr>\n",
              "      <th>0</th>\n",
              "      <td>Eric Love War Eric Love War Author Eric Title ...</td>\n",
              "      <td>[Eric, Love, War, Eric, Love, War, Author, Eri...</td>\n",
              "    </tr>\n",
              "    <tr>\n",
              "      <th>1</th>\n",
              "      <td>Eric Short Walk Eric Short Walk Author Eric Ti...</td>\n",
              "      <td>[Eric, Short, Walk, Eric, Short, Walk, Author,...</td>\n",
              "    </tr>\n",
              "    <tr>\n",
              "      <th>2</th>\n",
              "      <td>Poetry Unabridged Poetry Unabridged Author Tit...</td>\n",
              "      <td>[Poetry, Unabridged, Poetry, Unabridged, Autho...</td>\n",
              "    </tr>\n",
              "    <tr>\n",
              "      <th>3</th>\n",
              "      <td>Uncle Cabin Uncle Cabin Author Title Uncle Cab...</td>\n",
              "      <td>[Uncle, Cabin, Uncle, Cabin, Author, Title, Un...</td>\n",
              "    </tr>\n",
              "    <tr>\n",
              "      <th>4</th>\n",
              "      <td>Consider Lily Consider Lily Author Title Consi...</td>\n",
              "      <td>[Consider, Lily, Consider, Lily, Author, Title...</td>\n",
              "    </tr>\n",
              "  </tbody>\n",
              "</table>\n",
              "</div>"
            ],
            "text/plain": [
              "                                   text_preprocessed  \\\n",
              "0  Eric Love War Eric Love War Author Eric Title ...   \n",
              "1  Eric Short Walk Eric Short Walk Author Eric Ti...   \n",
              "2  Poetry Unabridged Poetry Unabridged Author Tit...   \n",
              "3  Uncle Cabin Uncle Cabin Author Title Uncle Cab...   \n",
              "4  Consider Lily Consider Lily Author Title Consi...   \n",
              "\n",
              "                                       text_splitted  \n",
              "0  [Eric, Love, War, Eric, Love, War, Author, Eri...  \n",
              "1  [Eric, Short, Walk, Eric, Short, Walk, Author,...  \n",
              "2  [Poetry, Unabridged, Poetry, Unabridged, Autho...  \n",
              "3  [Uncle, Cabin, Uncle, Cabin, Author, Title, Un...  \n",
              "4  [Consider, Lily, Consider, Lily, Author, Title...  "
            ]
          },
          "execution_count": 6,
          "metadata": {},
          "output_type": "execute_result"
        }
      ],
      "source": [
        "# removing HTML from raw data\n",
        "pattern = re.compile('<.*?>') \n",
        "table = str.maketrans(\"\",\"\")\n",
        "punct = string.punctuation + '“”0123456789‘’'\n",
        "\n",
        "# function to repllace all the HTML with nothing\n",
        "def remove_html(html):\n",
        "  cleantext = re.sub(pattern, '', html)\n",
        "  return cleantext.translate(str.maketrans('','', punct))\n",
        "\n",
        "# apply the HTML-removing function\n",
        "raw_data.text = raw_data.text.apply(remove_html)\n",
        "\n",
        "# replace all the '\\n's with nothing\n",
        "raw_data.text = raw_data.text.apply(lambda x: x.replace('\\n', ''))\n",
        "\n",
        "# additionally remove javascript tags/words\n",
        "def remove_tags(html):\n",
        "    soup = BeautifulSoup(html, \"html.parser\")\n",
        "    for data in soup(['style', 'script']):\n",
        "        data.decompose()\n",
        "    return ' '.join(soup.stripped_strings)\n",
        "\n",
        "raw_data.text = raw_data.text.apply(remove_tags)\n",
        "\n",
        "# remove non english words and stop words\n",
        "words = set(nltk.corpus.words.words()).difference(set(stopwords.words('english')))\n",
        "def non_english(i):\n",
        "    return [w for w in nltk.wordpunct_tokenize(i) if w.lower() in words ]\n",
        "raw_data['text_splitted'] = raw_data.text.apply(non_english)\n",
        "\n",
        "# lemmatize function\n",
        "def lemmatize(i):\n",
        "    return [lemmatizer.lemmatize(w) for w in i]\n",
        "\n",
        "# remove single characters\n",
        "def join(i):\n",
        "    return \" \".join(w for w in i if len(w) > 1)\n",
        "\n",
        "\n",
        "# lemmatize\n",
        "raw_data.text_splitted = raw_data.text_splitted.apply(lemmatize)\n",
        "raw_data['text_preprocessed'] = raw_data.text_splitted.apply(join)\n",
        "\n",
        "data_preprocessed = raw_data[['text_preprocessed', 'text_splitted']]\n",
        "data_preprocessed.head()"
      ]
    },
    {
      "cell_type": "code",
      "execution_count": 7,
      "metadata": {
        "id": "H59-VAGmDMVM"
      },
      "outputs": [
        {
          "data": {
            "text/plain": [
              "[('game', 263185),\n",
              " ('function', 255473),\n",
              " ('new', 211120),\n",
              " ('news', 205041),\n",
              " ('top', 200213),\n",
              " ('width', 172568),\n",
              " ('stock', 161457),\n",
              " ('color', 130093),\n",
              " ('data', 128169),\n",
              " ('home', 121662),\n",
              " ('else', 113903),\n",
              " ('height', 109331),\n",
              " ('video', 108796),\n",
              " ('li', 108361),\n",
              " ('return', 104648),\n",
              " ('world', 102070),\n",
              " ('solid', 90784),\n",
              " ('us', 90340),\n",
              " ('site', 86666),\n",
              " ('padding', 84289),\n",
              " ('time', 81460),\n",
              " ('market', 81001),\n",
              " ('content', 78426),\n",
              " ('user', 78060),\n",
              " ('city', 73200),\n",
              " ('undefined', 72212),\n",
              " ('media', 70565),\n",
              " ('background', 70157),\n",
              " ('get', 68705),\n",
              " ('review', 68564),\n",
              " ('border', 68132),\n",
              " ('n', 67405),\n",
              " ('player', 67243),\n",
              " ('league', 66815),\n",
              " ('privacy', 66528),\n",
              " ('date', 66439),\n",
              " ('search', 65810),\n",
              " ('day', 63341),\n",
              " ('use', 63244),\n",
              " ('margin', 63107),\n",
              " ('false', 62376),\n",
              " ('true', 60695),\n",
              " ('small', 60423),\n",
              " ('football', 60195),\n",
              " ('information', 59870),\n",
              " ('left', 59606),\n",
              " ('page', 59594),\n",
              " ('none', 58479),\n",
              " ('rating', 56488),\n",
              " ('th', 56321),\n",
              " ('free', 54553),\n",
              " ('may', 54453),\n",
              " ('price', 53746),\n",
              " ('interactive', 53625),\n",
              " ('number', 52723),\n",
              " ('first', 52030),\n",
              " ('x', 51764),\n",
              " ('em', 51423),\n",
              " ('display', 51268),\n",
              " ('break', 50467),\n",
              " ('product', 50214),\n",
              " ('see', 49881),\n",
              " ('biz', 49452),\n",
              " ('company', 48998),\n",
              " ('contact', 48342),\n",
              " ('sports', 48170),\n",
              " ('policy', 48076),\n",
              " ('help', 47998),\n",
              " ('action', 47578),\n",
              " ('buy', 46706),\n",
              " ('cup', 46117),\n",
              " ('cell', 45953),\n",
              " ('h', 45388),\n",
              " ('si', 43860),\n",
              " ('position', 43664),\n",
              " ('bold', 43134),\n",
              " ('popular', 42666),\n",
              " ('list', 42467),\n",
              " ('digital', 42215),\n",
              " ('u', 42184),\n",
              " ('copy', 42085),\n",
              " ('international', 41846),\n",
              " ('quote', 41686),\n",
              " ('available', 41403),\n",
              " ('one', 40536),\n",
              " ('v', 39746),\n",
              " ('also', 39737),\n",
              " ('back', 39681),\n",
              " ('name', 39298),\n",
              " ('case', 38824),\n",
              " ('e', 38295),\n",
              " ('reserved', 38011),\n",
              " ('club', 37026),\n",
              " ('copyright', 36800),\n",
              " ('release', 36792),\n",
              " ('service', 36734),\n",
              " ('map', 36606),\n",
              " ('change', 36488),\n",
              " ('find', 35552),\n",
              " ('web', 35531)]"
            ]
          },
          "execution_count": 7,
          "metadata": {},
          "output_type": "execute_result"
        }
      ],
      "source": [
        "# make list, lower\n",
        "list_of_words = data_preprocessed.text_splitted.explode().to_list()\n",
        "list_of_words = [x.lower() for x in list_of_words] # lower \n",
        "\n",
        "# calculate quantity of each word\n",
        "frequency = Counter(list_of_words)\n",
        "\n",
        "# most common words\n",
        "most_frequent = frequency.most_common(n = 100)\n",
        "most_frequent"
      ]
    },
    {
      "cell_type": "markdown",
      "metadata": {
        "id": "_h_c-1kBDMVN"
      },
      "source": [
        "#### Vizualization"
      ]
    },
    {
      "cell_type": "markdown",
      "metadata": {
        "id": "HTu83iAWDMVN"
      },
      "source": [
        "As a visualisation, it is necessary to construct a frequency distribution of words (the 100 most common words), sorted by frequency. \n",
        "\n",
        "For visualization purposes we advice you to use plotly, but you are free to choose other libraries"
      ]
    },
    {
      "cell_type": "code",
      "execution_count": 8,
      "metadata": {
        "id": "bHX6IXcrDMVO"
      },
      "outputs": [
        {
          "data": {
            "image/png": "[encoded data removed]",
            "text/plain": [
              "<Figure size 1152x288 with 1 Axes>"
            ]
          },
          "metadata": {
            "needs_background": "light"
          },
          "output_type": "display_data"
        }
      ],
      "source": [
        "fig, ax = plt.subplots(figsize=(16, 4))\n",
        "ax.bar([pair[0] for pair in most_frequent], [pair[1] for pair in most_frequent])\n",
        "ax.set_title('Word frequency')\n",
        "ax.set_xlabel('Word')\n",
        "ax.set_ylabel('Frequency')\n",
        "plt.xticks(rotation = 90)\n",
        "plt.show()"
      ]
    },
    {
      "cell_type": "markdown",
      "metadata": {
        "id": "5ZxcPfLTDMVO"
      },
      "source": [
        "#### Provide examples of processed text (some parts)\n",
        "\n",
        "Is everything all right with the result of cleaning these examples? What kind of information was lost?"
      ]
    },
    {
      "cell_type": "code",
      "execution_count": 9,
      "metadata": {
        "id": "2BSMfa9lDMVP"
      },
      "outputs": [
        {
          "data": {
            "text/html": [
              "<div>\n",
              "<style scoped>\n",
              "    .dataframe tbody tr th:only-of-type {\n",
              "        vertical-align: middle;\n",
              "    }\n",
              "\n",
              "    .dataframe tbody tr th {\n",
              "        vertical-align: top;\n",
              "    }\n",
              "\n",
              "    .dataframe thead th {\n",
              "        text-align: right;\n",
              "    }\n",
              "</style>\n",
              "<table border=\"1\" class=\"dataframe\">\n",
              "  <thead>\n",
              "    <tr style=\"text-align: right;\">\n",
              "      <th></th>\n",
              "      <th>text_preprocessed</th>\n",
              "      <th>text_splitted</th>\n",
              "    </tr>\n",
              "  </thead>\n",
              "  <tbody>\n",
              "    <tr>\n",
              "      <th>0</th>\n",
              "      <td>Eric Love War Eric Love War Author Eric Title ...</td>\n",
              "      <td>[Eric, Love, War, Eric, Love, War, Author, Eri...</td>\n",
              "    </tr>\n",
              "    <tr>\n",
              "      <th>1</th>\n",
              "      <td>Eric Short Walk Eric Short Walk Author Eric Ti...</td>\n",
              "      <td>[Eric, Short, Walk, Eric, Short, Walk, Author,...</td>\n",
              "    </tr>\n",
              "    <tr>\n",
              "      <th>2</th>\n",
              "      <td>Poetry Unabridged Poetry Unabridged Author Tit...</td>\n",
              "      <td>[Poetry, Unabridged, Poetry, Unabridged, Autho...</td>\n",
              "    </tr>\n",
              "    <tr>\n",
              "      <th>3</th>\n",
              "      <td>Uncle Cabin Uncle Cabin Author Title Uncle Cab...</td>\n",
              "      <td>[Uncle, Cabin, Uncle, Cabin, Author, Title, Un...</td>\n",
              "    </tr>\n",
              "    <tr>\n",
              "      <th>4</th>\n",
              "      <td>Consider Lily Consider Lily Author Title Consi...</td>\n",
              "      <td>[Consider, Lily, Consider, Lily, Author, Title...</td>\n",
              "    </tr>\n",
              "  </tbody>\n",
              "</table>\n",
              "</div>"
            ],
            "text/plain": [
              "                                   text_preprocessed  \\\n",
              "0  Eric Love War Eric Love War Author Eric Title ...   \n",
              "1  Eric Short Walk Eric Short Walk Author Eric Ti...   \n",
              "2  Poetry Unabridged Poetry Unabridged Author Tit...   \n",
              "3  Uncle Cabin Uncle Cabin Author Title Uncle Cab...   \n",
              "4  Consider Lily Consider Lily Author Title Consi...   \n",
              "\n",
              "                                       text_splitted  \n",
              "0  [Eric, Love, War, Eric, Love, War, Author, Eri...  \n",
              "1  [Eric, Short, Walk, Eric, Short, Walk, Author,...  \n",
              "2  [Poetry, Unabridged, Poetry, Unabridged, Autho...  \n",
              "3  [Uncle, Cabin, Uncle, Cabin, Author, Title, Un...  \n",
              "4  [Consider, Lily, Consider, Lily, Author, Title...  "
            ]
          },
          "execution_count": 9,
          "metadata": {},
          "output_type": "execute_result"
        }
      ],
      "source": [
        "data_preprocessed.head()\n",
        "\n",
        "# stop words, non-english, html and javascript were deleted"
      ]
    },
    {
      "cell_type": "markdown",
      "metadata": {
        "id": "IlSeYg4sDMVQ"
      },
      "source": [
        "# [10 points] Part 2. Duplicates detection. LSH"
      ]
    },
    {
      "cell_type": "markdown",
      "metadata": {
        "id": "ZuMBHSiDDMVR"
      },
      "source": [
        "#### Libraries you can use\n",
        "\n",
        "1. LSH - https://github.com/ekzhu/datasketch\n",
        "1. LSH - https://github.com/mattilyra/LSH\n",
        "1. Any other library on your choise"
      ]
    },
    {
      "cell_type": "markdown",
      "metadata": {
        "id": "uff5aBpgDMVR"
      },
      "source": [
        "1. Detect duplicated text (duplicates do not imply a complete word-to-word match, but texts that may contain a paraphrase, rearrangement of words, sentences)\n",
        "1. Make a plot dependency of duplicates on shingle size (with fixed minhash length) \n",
        "1. Make a plot dependency of duplicates on minhash length (with fixed shingle size)"
      ]
    },
    {
      "cell_type": "code",
      "execution_count": 25,
      "metadata": {
        "id": "HPonm9U3DMVS"
      },
      "outputs": [],
      "source": [
        "from datasketch.minhash import MinHash\n",
        "from datasketch.weighted_minhash import WeightedMinHashGenerator\n",
        "from datasketch.lsh import MinHashLSH\n",
        "import tqdm\n",
        "\n",
        "import numpy as np"
      ]
    },
    {
      "cell_type": "code",
      "execution_count": 11,
      "metadata": {},
      "outputs": [
        {
          "data": {
            "text/plain": [
              "0    Eric Love War Eric Love War Author Eric Title ...\n",
              "1    Eric Short Walk Eric Short Walk Author Eric Ti...\n",
              "2    Poetry Unabridged Poetry Unabridged Author Tit...\n",
              "3    Uncle Cabin Uncle Cabin Author Title Uncle Cab...\n",
              "4    Consider Lily Consider Lily Author Title Consi...\n",
              "Name: text_preprocessed, dtype: object"
            ]
          },
          "execution_count": 11,
          "metadata": {},
          "output_type": "execute_result"
        }
      ],
      "source": [
        "df = data_preprocessed.text_preprocessed\n",
        "df.head()"
      ]
    },
    {
      "cell_type": "code",
      "execution_count": 32,
      "metadata": {},
      "outputs": [],
      "source": [
        "# split text into shingles\n",
        "def split_text(text, n):  \n",
        "    text = text.split()\n",
        "    temp = set()\n",
        "    for i in range(0, len(text)-n):\n",
        "        s = ''.join(text[i : i+n])\n",
        "        temp.add(s)\n",
        "    return temp\n",
        "\n",
        "# apply minhash function\n",
        "def minhash_estimation(object, num_perm, char_ngrams): # taken from https://skeptric.com/minhash/\n",
        "    m = MinHash(num_perm)\n",
        "    for i in split_text(object, char_ngrams):\n",
        "        m.update(i.encode('utf8'))\n",
        "    return m\n",
        "\n",
        "# Apply minhash to each shingle set, create LSH object\n",
        "def lsh_similarity(texts_preprocessed:pd.Series, num_perm, char_ngrams): # taken from https://skeptric.com/minhash-lsh/ and http://ekzhu.com/datasketch/lsh.html\n",
        "    lsh = MinHashLSH(num_perm=num_perm) # threshold is 0.9 by default  \n",
        "    MinHashes = []\n",
        "    for i, text in enumerate(texts_preprocessed):\n",
        "        MinHash_estimation = minhash_estimation(text, num_perm, char_ngrams)\n",
        "        MinHashes.append(MinHash_estimation)\n",
        "        lsh.insert(str(i), MinHash_estimation) # insert id and signature\n",
        "    print(num_perm, char_ngrams)\n",
        "    return MinHashes, lsh\n",
        "\n",
        "# overall function to get number of duplicates\n",
        "def duplicates_estimation(texts_preprocessed:pd.Series, num_perm, char_ngrams): \n",
        "    MinHashes, LSH = lsh_similarity(texts_preprocessed, num_perm, char_ngrams)\n",
        "    duplicates = 0\n",
        "    for MinHash in MinHashes:\n",
        "        l = len(LSH.query(MinHash)) - 1\n",
        "        if l > 0:\n",
        "            duplicates += l\n",
        "    print(num_perm, char_ngrams, duplicates)\n",
        "    return duplicates"
      ]
    },
    {
      "cell_type": "code",
      "execution_count": 36,
      "metadata": {},
      "outputs": [
        {
          "name": "stdout",
          "output_type": "stream",
          "text": [
            "32 4\n",
            "32 4 5927920\n",
            "64 4\n",
            "64 4 5278274\n",
            "128 4\n",
            "128 4 4622030\n",
            "256 4\n",
            "256 4 4699358\n"
          ]
        },
        {
          "data": {
            "image/png": "[encoded data removed]",
            "text/plain": [
              "<Figure size 576x432 with 1 Axes>"
            ]
          },
          "metadata": {
            "needs_background": "light"
          },
          "output_type": "display_data"
        }
      ],
      "source": [
        "# different minhash len\n",
        "\n",
        "X = []\n",
        "minhash_len = [32, 64, 128, 256]\n",
        "for l in minhash_len:\n",
        "        x = duplicates_estimation(df, l, 4)\n",
        "        X.append(x)\n",
        "\n",
        "# plotting\n",
        "import matplotlib.pyplot as plt\n",
        "fig, ax = plt.subplots(figsize=(8, 6))\n",
        "plt.bar(minhash_len, X, align = 'center', width = 25)\n",
        "plt.title('Number of candidate duplicate pairs found by LSH')\n",
        "plt.xlabel('MinHash len')\n",
        "plt.ylabel('Number of candidate duplicates')\n",
        "plt.xticks(minhash_len, minhash_len)\n",
        "plt.show()"
      ]
    },
    {
      "cell_type": "code",
      "execution_count": 35,
      "metadata": {},
      "outputs": [
        {
          "name": "stdout",
          "output_type": "stream",
          "text": [
            "128 3\n",
            "128 3 3593738\n",
            "128 4\n",
            "128 4 4622030\n",
            "128 5\n",
            "128 5 2680430\n",
            "128 6\n",
            "128 6 2332482\n",
            "128 7\n",
            "128 7 1807966\n",
            "128 8\n",
            "128 8 1773442\n",
            "128 9\n",
            "128 9 2802410\n",
            "128 10\n",
            "128 10 1763382\n"
          ]
        },
        {
          "data": {
            "image/png": "[encoded data removed]",
            "text/plain": [
              "<Figure size 576x432 with 1 Axes>"
            ]
          },
          "metadata": {
            "needs_background": "light"
          },
          "output_type": "display_data"
        }
      ],
      "source": [
        "# different shingle size\n",
        "\n",
        "X = []\n",
        "shingles = [3, 4, 5, 6, 7, 8, 9, 10]\n",
        "for shingle in shingles:\n",
        "        x = duplicates_estimation(df, 128, shingle)\n",
        "        X.append(x)\n",
        "\n",
        "import matplotlib.pyplot as plt\n",
        "fig, ax = plt.subplots(figsize=(8, 6))\n",
        "plt.bar(shingles, X, align='center')\n",
        "plt.title('Number of candidate duplicate pairs found by LSH')\n",
        "plt.xlabel('Shingles number')\n",
        "plt.ylabel('Number of candidate duplicates')\n",
        "plt.xticks(shingles, shingles)\n",
        "plt.show()"
      ]
    }
  ],
  "metadata": {
    "colab": {
      "name": "hw1.ipynb",
      "provenance": []
    },
    "kernelspec": {
      "display_name": "Python 3",
      "language": "python",
      "name": "python3"
    },
    "language_info": {
      "codemirror_mode": {
        "name": "ipython",
        "version": 3
      },
      "file_extension": ".py",
      "mimetype": "text/x-python",
      "name": "python",
      "nbconvert_exporter": "python",
      "pygments_lexer": "ipython3",
      "version": "3.9.7"
    }
  },
  "nbformat": 4,
  "nbformat_minor": 0
}
